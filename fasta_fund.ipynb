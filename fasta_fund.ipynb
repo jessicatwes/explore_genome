{
 "cells": [
  {
   "cell_type": "markdown",
   "id": "840f9674-6f0c-4f40-80fd-be2529cbcf46",
   "metadata": {},
   "source": [
    "## Explore basic genome sequencing data string"
   ]
  },
  {
   "cell_type": "markdown",
   "id": "694a0a81-8f49-4f5e-b4be-d6e45727969c",
   "metadata": {},
   "source": [
    "### Fasta file for coronavirus 2 isolate Wuhan-Hu-1 found at \n",
    "https://www.ncbi.nlm.nih.gov/nuccore/1798174254/"
   ]
  },
  {
   "cell_type": "markdown",
   "id": "6dbb92fd-c46b-4f94-bedb-42635feece88",
   "metadata": {},
   "source": [
    "#### Read in an input fasta file and get the genome sequence length and frequency of each base pair. "
   ]
  },
  {
   "cell_type": "code",
   "execution_count": 10,
   "id": "391a7984-53b2-4658-afb4-6f71e4767cd7",
   "metadata": {},
   "outputs": [
    {
     "name": "stdout",
     "output_type": "stream",
     "text": [
      "The first 100 bp of genome is  ATTAAAGGTTTATACCTTCCCAGGTAACAAACCAACCAACTTTCGATCTCTTGTAGATCTGTTCTCTAAACGAACTTTAAAATCTGTGTGGCTGTCACTC\n",
      "Sars2 isolate genome sequence has  29903  base pairs\n"
     ]
    },
    {
     "data": {
      "text/plain": [
       "Counter({'A': 8954, 'T': 9594, 'G': 5863, 'C': 5492})"
      ]
     },
     "execution_count": 10,
     "metadata": {},
     "output_type": "execute_result"
    }
   ],
   "source": [
    "import collections #use Counter package\n",
    "\n",
    "def read_genome(filename):\n",
    "    ''' read in a fasta file line by line omitting the first descriptive line that starts with 'r'\n",
    "    input = fasta file\n",
    "    output = genome file comprised of input fasta\n",
    "    '''\n",
    "    genome = ''\n",
    "    with open(filename, 'r') as f:\n",
    "        for line in f:\n",
    "            if not line[0] == '>':\n",
    "                genome += line.rstrip()\n",
    "    return genome\n",
    "\n",
    "genome = read_genome('sars2_isolate.fa')\n",
    "\n",
    "#Print the first 100bp\n",
    "print('The first 100 bp of genome is ', genome[:100])\n",
    "\n",
    "#Length of genome\n",
    "print('Sars2 isolate genome sequence has ', len(genome), ' base pairs')\n",
    "\n",
    "#Frequency of each base in genome\n",
    "collections.Counter(genome)"
   ]
  },
  {
   "cell_type": "code",
   "execution_count": 18,
   "id": "34ef58d2-cb88-49ee-ae18-57f74d4c787d",
   "metadata": {},
   "outputs": [
    {
     "name": "stdout",
     "output_type": "stream",
     "text": [
      "ATTAAAGGTTTATACCTTCCCAGGTAACAAACCAACCAACTTTCGATCTCTTGTAGATCTGTTCTCTAAACGAACTTTAAAATCTGTGTGGCTGTCACTC\n"
     ]
    }
   ],
   "source": [
    "def reverse_complement(genome):\n",
    "    complement_dict = {'A':'T', 'T':'A', 'C':'G', 'G':'C'}\n",
    "    rev_string = ''\n",
    "    for base in genome:\n",
    "        rev_string = complement_dict[base] + rev_string\n",
    "    return rev_string\n",
    "\n",
    "rev_string = reverse_complement(genome)\n",
    "print(genome[:100])"
   ]
  },
  {
   "cell_type": "code",
   "execution_count": null,
   "id": "9ca06f98-3153-4ee1-8c17-b3d68c5e4d34",
   "metadata": {},
   "outputs": [],
   "source": []
  }
 ],
 "metadata": {
  "kernelspec": {
   "display_name": "Python 3 (ipykernel)",
   "language": "python",
   "name": "python3"
  },
  "language_info": {
   "codemirror_mode": {
    "name": "ipython",
    "version": 3
   },
   "file_extension": ".py",
   "mimetype": "text/x-python",
   "name": "python",
   "nbconvert_exporter": "python",
   "pygments_lexer": "ipython3",
   "version": "3.9.6"
  }
 },
 "nbformat": 4,
 "nbformat_minor": 5
}
