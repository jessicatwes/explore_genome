{
 "cells": [
  {
   "cell_type": "markdown",
   "id": "840f9674-6f0c-4f40-80fd-be2529cbcf46",
   "metadata": {},
   "source": [
    "## Explore basic genome sequencing data string using input fasta file"
   ]
  },
  {
   "cell_type": "markdown",
   "id": "694a0a81-8f49-4f5e-b4be-d6e45727969c",
   "metadata": {},
   "source": [
    "### Fasta file for coronavirus 2 isolate Wuhan-Hu-1 found at \n",
    "https://www.ncbi.nlm.nih.gov/nuccore/1798174254/"
   ]
  },
  {
   "cell_type": "markdown",
   "id": "6dbb92fd-c46b-4f94-bedb-42635feece88",
   "metadata": {},
   "source": [
    "#### Read in an input fasta file, a text-based format file representing either nucleotide (or amino acid) sequences, and get the sequence length and frequency of each nucleotide. "
   ]
  },
  {
   "cell_type": "code",
   "execution_count": 4,
   "id": "b1e991ab-97c9-4e7e-97ff-89c1f3de9914",
   "metadata": {},
   "outputs": [],
   "source": [
    "# Import packages\n",
    "import collections #use Counter package\n",
    "import matplotlib.pylab as plt"
   ]
  },
  {
   "cell_type": "code",
   "execution_count": 18,
   "id": "391a7984-53b2-4658-afb4-6f71e4767cd7",
   "metadata": {},
   "outputs": [
    {
     "name": "stdout",
     "output_type": "stream",
     "text": [
      "The first 100 bp of genome is  ATTAAAGGTTTATACCTTCCCAGGTAACAAACCAACCAACTTTCGATCTCTTGTAGATCTGTTCTCTAAACGAACTTTAAAATCTGTGTGGCTGTCACTC\n",
      "Sars2 isolate genome sequence has  29903  base pairs\n"
     ]
    },
    {
     "data": {
      "text/plain": [
       "Counter({'A': 8954, 'T': 9594, 'G': 5863, 'C': 5492})"
      ]
     },
     "execution_count": 18,
     "metadata": {},
     "output_type": "execute_result"
    }
   ],
   "source": [
    "def read_genome(filename):\n",
    "    ''' read in a fasta file line by line omitting the first descriptive line that starts with 'r'\n",
    "    input = fasta file\n",
    "    output = genome file comprised of input fasta\n",
    "    '''\n",
    "    genome = ''\n",
    "    with open(filename, 'r') as f:\n",
    "        for line in f:\n",
    "            if not line[0] == '>':\n",
    "                genome += line.rstrip()\n",
    "    f.close()\n",
    "    return genome\n",
    "\n",
    "def parse_fasta(filename):\n",
    "    '''read in a fasta file line by line and parse it into the identifier and the content\n",
    "    input = fasta file\n",
    "    output = 2 lists; identifiers which has the descriptive line and contents which has each line \n",
    "    of fasta file as element in contents list\n",
    "    '''\n",
    "    identifiers = []\n",
    "    contents = []\n",
    "    with open(fname, \"r\") as fh:\n",
    "        for line in fh:\n",
    "            if line.startswith(\">\"):\n",
    "                identifiers.append(line)\n",
    "            else:\n",
    "                contents.append(line)\n",
    "    return identifiers, contents\n",
    "\n",
    "genome = read_genome('sars2_isolate.fa')\n",
    "\n",
    "#Print the first 100bp\n",
    "print('The first 100 bp of genome is ', genome[:100])\n",
    "\n",
    "#Length of genome\n",
    "print('Sars2 isolate genome sequence has ', len(genome), ' base pairs')\n",
    "\n",
    "#Frequency of each base in genome\n",
    "collections.Counter(genome)"
   ]
  },
  {
   "cell_type": "code",
   "execution_count": 6,
   "id": "34ef58d2-cb88-49ee-ae18-57f74d4c787d",
   "metadata": {},
   "outputs": [
    {
     "name": "stdout",
     "output_type": "stream",
     "text": [
      "ATTAAAGGTTTATACCTTCCCAGGTAACAAACCAACCAACTTTCGATCTCTTGTAGATCTGTTCTCTAAACGAACTTTAAAATCTGTGTGGCTGTCACTC\n"
     ]
    }
   ],
   "source": [
    "def reverse_complement(genome):\n",
    "    ''' Function to get the reverse complement of your genome sequence\n",
    "    '''\n",
    "    complement_dict = {'A':'T', 'T':'A', 'C':'G', 'G':'C'}\n",
    "    rev_string = ''\n",
    "    for base in genome:\n",
    "        rev_string = complement_dict[base] + rev_string\n",
    "    return rev_string\n",
    "\n",
    "rev_string = reverse_complement(genome)\n",
    "print(genome[:100])"
   ]
  },
  {
   "cell_type": "code",
   "execution_count": 45,
   "id": "9ca06f98-3153-4ee1-8c17-b3d68c5e4d34",
   "metadata": {},
   "outputs": [
    {
     "name": "stdout",
     "output_type": "stream",
     "text": [
      "The GC content of this genome is  0.3797277865097147 \n",
      "\n"
     ]
    },
    {
     "data": {
      "image/png": "[encoded data removed]",
      "text/plain": [
       "<Figure size 432x288 with 1 Axes>"
      ]
     },
     "metadata": {
      "needs_background": "light"
     },
     "output_type": "display_data"
    }
   ],
   "source": [
    "def gc_content(genome):\n",
    "    '''Calculat the GC% of a given genome sequence using collection library\n",
    "    input = genome sequence\n",
    "    output = basecount per nucleotide and the GC% content of genome\n",
    "    '''\n",
    "    # Count nucleotides\n",
    "    basecount = collections.Counter(genome)\n",
    "    key_base_list = ['A','T','G','C']\n",
    "    sum_basecount = sum(basecount[k] for k in key_base_list)\n",
    "    \n",
    "    # Calculat GC%\n",
    "    key_gc_list = ['G','C']\n",
    "    sum_gc = sum(basecount[k] for k in key_gc_list)\n",
    "    gc_percent = sum_gc / float(sum_basecount)\n",
    "    \n",
    "    # Convert value in dictionary to percentage\n",
    "    for key, value in basecount.items():\n",
    "        newvalue = value/sum_basecount\n",
    "        basecount[key] = newvalue\n",
    "\n",
    "    return basecount, gc_percent \n",
    "\n",
    "basecount, gc_percent = gc_content(genome)\n",
    "\n",
    "print(\"The GC content of this genome is \", gc_percent, \"\\n\")\n",
    "#Plotting the frequency of each base in genome\n",
    "plt.title('Nucleotide Base % in Genome')\n",
    "plt.xlabel('Nucleotide')\n",
    "plt.ylabel('Percentage, %')\n",
    "plt.bar(list(basecount.keys()), basecount.values(), color='b')\n",
    "plt.show()"
   ]
  }
 ],
 "metadata": {
  "kernelspec": {
   "display_name": "Python 3 (ipykernel)",
   "language": "python",
   "name": "python3"
  },
  "language_info": {
   "codemirror_mode": {
    "name": "ipython",
    "version": 3
   },
   "file_extension": ".py",
   "mimetype": "text/x-python",
   "name": "python",
   "nbconvert_exporter": "python",
   "pygments_lexer": "ipython3",
   "version": "3.9.6"
  }
 },
 "nbformat": 4,
 "nbformat_minor": 5
}
